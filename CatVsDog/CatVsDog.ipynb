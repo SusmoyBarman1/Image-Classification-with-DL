{
 "cells": [
  {
   "cell_type": "code",
   "execution_count": 2,
   "metadata": {},
   "outputs": [],
   "source": [
    "import cv2\n",
    "import os\n",
    "import numpy as np\n",
    "from random import shuffle\n",
    "from tqdm import tqdm  # tqdm used for iterate through file"
   ]
  },
  {
   "cell_type": "code",
   "execution_count": 3,
   "metadata": {},
   "outputs": [],
   "source": [
    "train_dir = 'C:/Users/SuSu/Desktop/Image Classification/CatVsDog/train'\n",
    "test_dir = 'C:/Users/SuSu/Desktop/Image Classification/CatVsDog/test'\n",
    "IMG_SIZE = 50 # image shape 50*50\n",
    "LR = 1e-3\n",
    "MODEL_NAME = 'dogsvscats-{}-{}.model'.format(LR,'6conv-basic')  # setting name for model"
   ]
  },
  {
   "cell_type": "code",
   "execution_count": 4,
   "metadata": {},
   "outputs": [],
   "source": [
    "# Labeling the dataset\n",
    "\n",
    "def label_img(img):\n",
    "    word_label = img.split('.')[-3]\n",
    "    if word_label == 'cat' : return [1,0]\n",
    "    elif word_label =='dog' : return [0,1]"
   ]
  },
  {
   "cell_type": "code",
   "execution_count": 5,
   "metadata": {},
   "outputs": [],
   "source": [
    "# Creating training data\n",
    "\n",
    "def create_train_data():\n",
    "    training_data = []\n",
    "    for img in tqdm(os.listdir(train_dir)):  # getting all file from directory\n",
    "        label = label_img(img)\n",
    "        path = os.path.join(train_dir,img)\n",
    "        \n",
    "        # converting colorscale image to grayscale image\n",
    "        img = cv2.imread(path,cv2.IMREAD_GRAYSCALE)\n",
    "        # resizing the image for processing 50*50\n",
    "        img = cv2.resize(img,(IMG_SIZE,IMG_SIZE))\n",
    "        # creating training data\n",
    "        training_data.append([np.array(img),np.array(label)])\n",
    "    \n",
    "    # shuffle the training data\n",
    "    shuffle(training_data)\n",
    "    # save training data for future use\n",
    "    np.save('training_data.npy',training_data)\n",
    "    return training_data\n",
    "    "
   ]
  },
  {
   "cell_type": "code",
   "execution_count": 6,
   "metadata": {},
   "outputs": [],
   "source": [
    "# Creating testing data\n",
    "\n",
    "def create_test_data():\n",
    "    testing_data = []\n",
    "    for img in tqdm(os.listdir(test_dir)):  # getting all file from directory\n",
    "        path = os.path.join(test_dir,img)\n",
    "        img_num = img.split('.')[0]\n",
    "        # converting colorscale image to grayscale image\n",
    "        img = cv2.imread(path,cv2.IMREAD_GRAYSCALE)\n",
    "        # resizing the image for processing 50*50\n",
    "        img = cv2.resize(img,(IMG_SIZE,IMG_SIZE))\n",
    "        # creating training data\n",
    "        testing_data.append([np.array(img),img_num])\n",
    "    \n",
    "    # shuffle the training data\n",
    "    shuffle(testing_data)\n",
    "    # save training data for future use\n",
    "    np.save('testing_data.npy',testing_data)\n",
    "    return testing_data"
   ]
  },
  {
   "cell_type": "code",
   "execution_count": null,
   "metadata": {},
   "outputs": [],
   "source": []
  }
 ],
 "metadata": {
  "kernelspec": {
   "display_name": "Python 3",
   "language": "python",
   "name": "python3"
  },
  "language_info": {
   "codemirror_mode": {
    "name": "ipython",
    "version": 3
   },
   "file_extension": ".py",
   "mimetype": "text/x-python",
   "name": "python",
   "nbconvert_exporter": "python",
   "pygments_lexer": "ipython3",
   "version": "3.6.9"
  }
 },
 "nbformat": 4,
 "nbformat_minor": 2
}
