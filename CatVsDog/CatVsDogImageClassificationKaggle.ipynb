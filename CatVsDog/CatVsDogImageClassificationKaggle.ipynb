{
 "cells": [
  {
   "cell_type": "code",
   "execution_count": 1,
   "metadata": {},
   "outputs": [
    {
     "name": "stdout",
     "output_type": "stream",
     "text": [
      "['test', 'train']\n"
     ]
    }
   ],
   "source": [
    "# This Python 3 environment comes with many helpful analytics libraries installed\n",
    "# It is defined by the kaggle/python docker image: https://github.com/kaggle/docker-python\n",
    "# For example, here's several helpful packages to load in \n",
    "\n",
    "import numpy as np # linear algebra\n",
    "import pandas as pd # data processing, CSV file I/O (e.g. pd.read_csv)\n",
    "import cv2\n",
    "import matplotlib.pyplot as plt\n",
    "import tensorflow as tf\n",
    "from tensorflow.keras.models import Sequential\n",
    "from tensorflow.keras.layers import Dense, Flatten, Dropout, Activation, Conv2D, MaxPooling2D\n",
    "\n",
    "# Input data files are available in the \"../input/\" directory.\n",
    "# For example, running this (by clicking run or pressing Shift+Enter) will list the files in the input directory\n",
    "\n",
    "import os\n",
    "print(os.listdir(\"../CatVsDog/input\"))"
   ]
  },
  {
   "cell_type": "code",
   "execution_count": 2,
   "metadata": {},
   "outputs": [
    {
     "data": {
      "image/png": "[encoded data removed]",
      "text/plain": [
       "<Figure size 432x288 with 1 Axes>"
      ]
     },
     "metadata": {
      "needs_background": "light"
     },
     "output_type": "display_data"
    }
   ],
   "source": [
    "main_dir = \"../CatVsDog/input/\"\n",
    "train_dir = \"train\"\n",
    "path = os.path.join(main_dir,train_dir)\n",
    "\n",
    "for p in os.listdir(path):\n",
    "    category = p.split(\".\")[0]\n",
    "    img_array = cv2.imread(os.path.join(path,p),cv2.IMREAD_GRAYSCALE)\n",
    "    new_img_array = cv2.resize(img_array, dsize=(80, 80))\n",
    "    plt.imshow(new_img_array,cmap=\"gray\")\n",
    "    break"
   ]
  },
  {
   "cell_type": "code",
   "execution_count": 3,
   "metadata": {},
   "outputs": [],
   "source": [
    "X = []\n",
    "y = []\n",
    "convert = lambda category : int(category == 'dog')\n",
    "def create_test_data(path):\n",
    "    for p in os.listdir(path):\n",
    "        category = p.split(\".\")[0]\n",
    "        category = convert(category)\n",
    "        img_array = cv2.imread(os.path.join(path,p),cv2.IMREAD_GRAYSCALE)\n",
    "        new_img_array = cv2.resize(img_array, dsize=(80, 80))\n",
    "        X.append(new_img_array)\n",
    "        y.append(category)"
   ]
  },
  {
   "cell_type": "code",
   "execution_count": 4,
   "metadata": {},
   "outputs": [],
   "source": [
    "create_test_data(path)\n",
    "X = np.array(X).reshape(-1, 80,80,1)\n",
    "y = np.array(y)"
   ]
  },
  {
   "cell_type": "code",
   "execution_count": 5,
   "metadata": {},
   "outputs": [],
   "source": [
    "#import pickle\n",
    "\n",
    "#pickle.dump( X, open( \"train_x\", \"wb\" ) )\n",
    "#pickle.dump( y, open( \"train_y\", \"wb\" ) )"
   ]
  },
  {
   "cell_type": "code",
   "execution_count": 6,
   "metadata": {},
   "outputs": [],
   "source": [
    "#Normalize data\n",
    "X = X/255.0"
   ]
  },
  {
   "cell_type": "code",
   "execution_count": 7,
   "metadata": {},
   "outputs": [],
   "source": [
    "model = Sequential()\n",
    "# Adds a densely-connected layer with 64 units to the model:\n",
    "model.add(Conv2D(64,(3,3), activation = 'relu', input_shape = X.shape[1:]))\n",
    "model.add(MaxPooling2D(pool_size = (2,2)))\n",
    "# Add another:\n",
    "model.add(Conv2D(64,(3,3), activation = 'relu'))\n",
    "model.add(MaxPooling2D(pool_size = (2,2)))\n",
    "\n",
    "model.add(Flatten())\n",
    "model.add(Dense(64, activation='relu'))\n",
    "# Add a softmax layer with 10 output units:\n",
    "model.add(Dense(1, activation='sigmoid'))\n",
    "\n",
    "model.compile(optimizer=\"adam\",\n",
    "              loss='binary_crossentropy',\n",
    "              metrics=['accuracy'])"
   ]
  },
  {
   "cell_type": "code",
   "execution_count": 8,
   "metadata": {},
   "outputs": [
    {
     "name": "stdout",
     "output_type": "stream",
     "text": [
      "Train on 20000 samples, validate on 5000 samples\n",
      "Epoch 1/10\n",
      "20000/20000 [==============================] - 18s 875us/sample - loss: 0.6034 - accuracy: 0.6760 - val_loss: 0.7175 - val_accuracy: 0.5792\n",
      "Epoch 2/10\n",
      "20000/20000 [==============================] - 16s 777us/sample - loss: 0.4986 - accuracy: 0.7566 - val_loss: 0.6702 - val_accuracy: 0.6412\n",
      "Epoch 3/10\n",
      "20000/20000 [==============================] - 16s 822us/sample - loss: 0.4465 - accuracy: 0.7917 - val_loss: 0.6068 - val_accuracy: 0.6858\n",
      "Epoch 4/10\n",
      "20000/20000 [==============================] - 15s 750us/sample - loss: 0.4070 - accuracy: 0.8141 - val_loss: 0.5704 - val_accuracy: 0.7168\n",
      "Epoch 5/10\n",
      "20000/20000 [==============================] - 15s 744us/sample - loss: 0.3568 - accuracy: 0.8393 - val_loss: 0.7295 - val_accuracy: 0.6718\n",
      "Epoch 6/10\n",
      "20000/20000 [==============================] - 15s 742us/sample - loss: 0.3017 - accuracy: 0.8695 - val_loss: 0.8464 - val_accuracy: 0.5982\n",
      "Epoch 7/10\n",
      "20000/20000 [==============================] - 15s 761us/sample - loss: 0.2398 - accuracy: 0.9002 - val_loss: 0.7124 - val_accuracy: 0.7208\n",
      "Epoch 8/10\n",
      "20000/20000 [==============================] - 15s 768us/sample - loss: 0.1738 - accuracy: 0.9301 - val_loss: 1.0628 - val_accuracy: 0.6578\n",
      "Epoch 9/10\n",
      "20000/20000 [==============================] - 16s 782us/sample - loss: 0.1203 - accuracy: 0.9548 - val_loss: 1.1446 - val_accuracy: 0.6804\n",
      "Epoch 10/10\n",
      "20000/20000 [==============================] - 16s 787us/sample - loss: 0.0774 - accuracy: 0.9729 - val_loss: 1.3655 - val_accuracy: 0.6758\n"
     ]
    },
    {
     "data": {
      "text/plain": [
       "<tensorflow.python.keras.callbacks.History at 0x186d20e20b8>"
      ]
     },
     "execution_count": 8,
     "metadata": {},
     "output_type": "execute_result"
    }
   ],
   "source": [
    "model.fit(X, y, epochs=10, batch_size=32, validation_split=0.2)"
   ]
  },
  {
   "cell_type": "code",
   "execution_count": 25,
   "metadata": {},
   "outputs": [],
   "source": [
    "train_dir = \"mytest\"\n",
    "path = os.path.join(main_dir,train_dir)\n",
    "#os.listdir(path)\n",
    "\n",
    "X_test = []\n",
    "id_line = []\n",
    "def create_test1_data(path):\n",
    "    for p in os.listdir(path):\n",
    "        id_line.append(p.split(\".\")[0])\n",
    "        img_array = cv2.imread(os.path.join(path,p),cv2.IMREAD_GRAYSCALE)\n",
    "        new_img_array = cv2.resize(img_array, dsize=(80, 80))\n",
    "        X_test.append(new_img_array)\n",
    "        \n",
    "create_test1_data(path)\n",
    "dem = X_test\n",
    "X_test = np.array(X_test).reshape(-1,80,80,1)\n",
    "X_test = X_test/255.0\n",
    "\n",
    "predictions = model.predict(X_test)\n",
    "predicted_val = [int(round(p[0])) for p in predictions]"
   ]
  },
  {
   "cell_type": "code",
   "execution_count": 26,
   "metadata": {},
   "outputs": [
    {
     "data": {
      "image/png": "[encoded data removed]",
      "text/plain": [
       "<Figure size 432x288 with 1 Axes>"
      ]
     },
     "metadata": {
      "needs_background": "light"
     },
     "output_type": "display_data"
    }
   ],
   "source": [
    "main_dir = \"../CatVsDog/input/\"\n",
    "train_dir = \"mytest\"\n",
    "path = os.path.join(main_dir,train_dir)\n",
    "\n",
    "\n",
    "for p in os.listdir(path):\n",
    "    category = p.split(\".\")[0]\n",
    "    img_array = cv2.imread(os.path.join(path,p),cv2.IMREAD_GRAYSCALE)\n",
    "    new_img_array = cv2.resize(img_array, dsize=(80, 80))\n",
    "    plt.imshow(new_img_array,cmap=\"gray\")\n",
    "    break"
   ]
  },
  {
   "cell_type": "code",
   "execution_count": 27,
   "metadata": {},
   "outputs": [
    {
     "name": "stdout",
     "output_type": "stream",
     "text": [
      "Dog\n"
     ]
    }
   ],
   "source": [
    "if predicted_val[0]==0:\n",
    "    print(\"Cat\")\n",
    "else:\n",
    "    print(\"Dog\")"
   ]
  },
  {
   "cell_type": "code",
   "execution_count": 12,
   "metadata": {},
   "outputs": [],
   "source": [
    "submission_df = pd.DataFrame({'id':id_line, 'label':predicted_val})"
   ]
  },
  {
   "cell_type": "code",
   "execution_count": 13,
   "metadata": {},
   "outputs": [],
   "source": [
    "submission_df.to_csv(\"SusmoySubmission.csv\", index=False)"
   ]
  },
  {
   "cell_type": "code",
   "execution_count": 21,
   "metadata": {},
   "outputs": [
    {
     "name": "stdout",
     "output_type": "stream",
     "text": [
      "[[[0.23921569]\n",
      "  [0.21960784]\n",
      "  [0.23529412]\n",
      "  ...\n",
      "  [0.4       ]\n",
      "  [0.42745098]\n",
      "  [0.4       ]]\n",
      "\n",
      " [[0.21568627]\n",
      "  [0.23529412]\n",
      "  [0.24705882]\n",
      "  ...\n",
      "  [0.38431373]\n",
      "  [0.41960784]\n",
      "  [0.37647059]]\n",
      "\n",
      " [[0.19215686]\n",
      "  [0.22745098]\n",
      "  [0.22745098]\n",
      "  ...\n",
      "  [0.36470588]\n",
      "  [0.39607843]\n",
      "  [0.36078431]]\n",
      "\n",
      " ...\n",
      "\n",
      " [[0.76470588]\n",
      "  [0.7372549 ]\n",
      "  [0.74509804]\n",
      "  ...\n",
      "  [0.42352941]\n",
      "  [0.47843137]\n",
      "  [0.49411765]]\n",
      "\n",
      " [[0.74901961]\n",
      "  [0.76470588]\n",
      "  [0.76470588]\n",
      "  ...\n",
      "  [0.79607843]\n",
      "  [0.60784314]\n",
      "  [0.45490196]]\n",
      "\n",
      " [[0.70196078]\n",
      "  [0.7372549 ]\n",
      "  [0.74509804]\n",
      "  ...\n",
      "  [0.50588235]\n",
      "  [0.70588235]\n",
      "  [0.34117647]]]\n"
     ]
    }
   ],
   "source": [
    "print(X_test[0])"
   ]
  },
  {
   "cell_type": "code",
   "execution_count": null,
   "metadata": {},
   "outputs": [],
   "source": []
  }
 ],
 "metadata": {
  "kernelspec": {
   "display_name": "Python 3",
   "language": "python",
   "name": "python3"
  },
  "language_info": {
   "codemirror_mode": {
    "name": "ipython",
    "version": 3
   },
   "file_extension": ".py",
   "mimetype": "text/x-python",
   "name": "python",
   "nbconvert_exporter": "python",
   "pygments_lexer": "ipython3",
   "version": "3.6.9"
  }
 },
 "nbformat": 4,
 "nbformat_minor": 2
}
