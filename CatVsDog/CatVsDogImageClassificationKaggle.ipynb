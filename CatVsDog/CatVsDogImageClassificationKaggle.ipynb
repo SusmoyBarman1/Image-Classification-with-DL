{
 "cells": [
  {
   "cell_type": "code",
   "execution_count": 3,
   "metadata": {},
   "outputs": [
    {
     "name": "stdout",
     "output_type": "stream",
     "text": [
      "['test', 'train']\n"
     ]
    }
   ],
   "source": [
    "# This Python 3 environment comes with many helpful analytics libraries installed\n",
    "# It is defined by the kaggle/python docker image: https://github.com/kaggle/docker-python\n",
    "# For example, here's several helpful packages to load in \n",
    "\n",
    "import numpy as np # linear algebra\n",
    "import pandas as pd # data processing, CSV file I/O (e.g. pd.read_csv)\n",
    "import cv2\n",
    "import matplotlib.pyplot as plt\n",
    "import tensorflow as tf\n",
    "from tensorflow.keras.models import Sequential\n",
    "from tensorflow.keras.layers import Dense, Flatten, Dropout, Activation, Conv2D, MaxPooling2D\n",
    "\n",
    "# Input data files are available in the \"../input/\" directory.\n",
    "# For example, running this (by clicking run or pressing Shift+Enter) will list the files in the input directory\n",
    "\n",
    "import os\n",
    "print(os.listdir(\"../CatVsDog/input\"))"
   ]
  },
  {
   "cell_type": "code",
   "execution_count": 7,
   "metadata": {},
   "outputs": [
    {
     "data": {
      "image/png": "[encoded data removed]",
      "text/plain": [
       "<Figure size 432x288 with 1 Axes>"
      ]
     },
     "metadata": {
      "needs_background": "light"
     },
     "output_type": "display_data"
    }
   ],
   "source": [
    "main_dir = \"../CatVsDog/input/\"\n",
    "train_dir = \"train\"\n",
    "path = os.path.join(main_dir,train_dir)\n",
    "\n",
    "for p in os.listdir(path):\n",
    "    category = p.split(\".\")[0]\n",
    "    img_array = cv2.imread(os.path.join(path,p),cv2.IMREAD_GRAYSCALE)\n",
    "    new_img_array = cv2.resize(img_array, dsize=(80, 80))\n",
    "    plt.imshow(new_img_array,cmap=\"gray\")\n",
    "    break"
   ]
  },
  {
   "cell_type": "code",
   "execution_count": 8,
   "metadata": {},
   "outputs": [],
   "source": [
    "X = []\n",
    "y = []\n",
    "convert = lambda category : int(category == 'dog')\n",
    "def create_test_data(path):\n",
    "    for p in os.listdir(path):\n",
    "        category = p.split(\".\")[0]\n",
    "        category = convert(category)\n",
    "        img_array = cv2.imread(os.path.join(path,p),cv2.IMREAD_GRAYSCALE)\n",
    "        new_img_array = cv2.resize(img_array, dsize=(80, 80))\n",
    "        X.append(new_img_array)\n",
    "        y.append(category)"
   ]
  },
  {
   "cell_type": "code",
   "execution_count": 9,
   "metadata": {},
   "outputs": [],
   "source": [
    "create_test_data(path)\n",
    "X = np.array(X).reshape(-1, 80,80,1)\n",
    "y = np.array(y)"
   ]
  },
  {
   "cell_type": "code",
   "execution_count": 10,
   "metadata": {},
   "outputs": [],
   "source": [
    "#import pickle\n",
    "\n",
    "#pickle.dump( X, open( \"train_x\", \"wb\" ) )\n",
    "#pickle.dump( y, open( \"train_y\", \"wb\" ) )"
   ]
  },
  {
   "cell_type": "code",
   "execution_count": 11,
   "metadata": {},
   "outputs": [],
   "source": [
    "#Normalize data\n",
    "X = X/255.0"
   ]
  },
  {
   "cell_type": "code",
   "execution_count": 12,
   "metadata": {},
   "outputs": [
    {
     "name": "stdout",
     "output_type": "stream",
     "text": [
      "WARNING:tensorflow:From C:\\Users\\SuSu\\Anaconda3\\envs\\plantAI\\lib\\site-packages\\tensorflow\\python\\ops\\init_ops.py:1251: calling VarianceScaling.__init__ (from tensorflow.python.ops.init_ops) with dtype is deprecated and will be removed in a future version.\n",
      "Instructions for updating:\n",
      "Call initializer instance with the dtype argument instead of passing it to the constructor\n",
      "WARNING:tensorflow:From C:\\Users\\SuSu\\Anaconda3\\envs\\plantAI\\lib\\site-packages\\tensorflow\\python\\ops\\nn_impl.py:180: add_dispatch_support.<locals>.wrapper (from tensorflow.python.ops.array_ops) is deprecated and will be removed in a future version.\n",
      "Instructions for updating:\n",
      "Use tf.where in 2.0, which has the same broadcast rule as np.where\n"
     ]
    }
   ],
   "source": [
    "model = Sequential()\n",
    "# Adds a densely-connected layer with 64 units to the model:\n",
    "model.add(Conv2D(64,(3,3), activation = 'relu', input_shape = X.shape[1:]))\n",
    "model.add(MaxPooling2D(pool_size = (2,2)))\n",
    "# Add another:\n",
    "model.add(Conv2D(64,(3,3), activation = 'relu'))\n",
    "model.add(MaxPooling2D(pool_size = (2,2)))\n",
    "\n",
    "model.add(Flatten())\n",
    "model.add(Dense(64, activation='relu'))\n",
    "# Add a softmax layer with 10 output units:\n",
    "model.add(Dense(1, activation='sigmoid'))\n",
    "\n",
    "model.compile(optimizer=\"adam\",\n",
    "              loss='binary_crossentropy',\n",
    "              metrics=['accuracy'])"
   ]
  },
  {
   "cell_type": "code",
   "execution_count": 13,
   "metadata": {},
   "outputs": [
    {
     "name": "stdout",
     "output_type": "stream",
     "text": [
      "Train on 20000 samples, validate on 5000 samples\n",
      "Epoch 1/10\n",
      "20000/20000 [==============================] - 17s 839us/sample - loss: 0.6185 - acc: 0.6652 - val_loss: 0.8968 - val_acc: 0.4710\n",
      "Epoch 2/10\n",
      "20000/20000 [==============================] - 14s 713us/sample - loss: 0.5228 - acc: 0.7439 - val_loss: 0.6035 - val_acc: 0.6870\n",
      "Epoch 3/10\n",
      "20000/20000 [==============================] - 14s 714us/sample - loss: 0.4582 - acc: 0.7829 - val_loss: 0.4567 - val_acc: 0.8098\n",
      "Epoch 4/10\n",
      "20000/20000 [==============================] - 14s 714us/sample - loss: 0.4026 - acc: 0.8162 - val_loss: 0.6603 - val_acc: 0.6866\n",
      "Epoch 5/10\n",
      "20000/20000 [==============================] - 14s 720us/sample - loss: 0.3480 - acc: 0.8438 - val_loss: 0.7119 - val_acc: 0.6642\n",
      "Epoch 6/10\n",
      "20000/20000 [==============================] - 14s 711us/sample - loss: 0.2893 - acc: 0.8734 - val_loss: 0.8123 - val_acc: 0.6516\n",
      "Epoch 7/10\n",
      "20000/20000 [==============================] - 14s 712us/sample - loss: 0.2229 - acc: 0.9096 - val_loss: 0.7337 - val_acc: 0.7192\n",
      "Epoch 8/10\n",
      "20000/20000 [==============================] - 14s 715us/sample - loss: 0.1623 - acc: 0.9360 - val_loss: 0.7571 - val_acc: 0.7506\n",
      "Epoch 9/10\n",
      "20000/20000 [==============================] - 14s 714us/sample - loss: 0.1035 - acc: 0.9633 - val_loss: 1.2479 - val_acc: 0.6688\n",
      "Epoch 10/10\n",
      "20000/20000 [==============================] - 14s 713us/sample - loss: 0.0667 - acc: 0.9775 - val_loss: 1.3080 - val_acc: 0.7032\n"
     ]
    },
    {
     "data": {
      "text/plain": [
       "<tensorflow.python.keras.callbacks.History at 0x19af3226b70>"
      ]
     },
     "execution_count": 13,
     "metadata": {},
     "output_type": "execute_result"
    }
   ],
   "source": [
    "model.fit(X, y, epochs=10, batch_size=32, validation_split=0.2)"
   ]
  },
  {
   "cell_type": "code",
   "execution_count": 22,
   "metadata": {},
   "outputs": [],
   "source": [
    "train_dir = \"test\"\n",
    "path = os.path.join(main_dir,train_dir)\n",
    "#os.listdir(path)\n",
    "\n",
    "X_test = []\n",
    "id_line = []\n",
    "def create_test1_data(path):\n",
    "    for p in os.listdir(path):\n",
    "        id_line.append(p.split(\".\")[0])\n",
    "        img_array = cv2.imread(os.path.join(path,p),cv2.IMREAD_GRAYSCALE)\n",
    "        new_img_array = cv2.resize(img_array, dsize=(80, 80))\n",
    "        X_test.append(new_img_array)\n",
    "        \n",
    "create_test1_data(path)\n",
    "dem = X_test\n",
    "X_test = np.array(X_test).reshape(-1,80,80,1)\n",
    "X_test = X_test/255.0"
   ]
  },
  {
   "cell_type": "code",
   "execution_count": 16,
   "metadata": {},
   "outputs": [],
   "source": [
    "predictions = model.predict(X_test)"
   ]
  },
  {
   "cell_type": "code",
   "execution_count": 17,
   "metadata": {},
   "outputs": [],
   "source": [
    "predicted_val = [int(round(p[0])) for p in predictions]"
   ]
  },
  {
   "cell_type": "code",
   "execution_count": 18,
   "metadata": {},
   "outputs": [],
   "source": [
    "submission_df = pd.DataFrame({'id':id_line, 'label':predicted_val})"
   ]
  },
  {
   "cell_type": "code",
   "execution_count": 19,
   "metadata": {},
   "outputs": [],
   "source": [
    "submission_df.to_csv(\"submission.csv\", index=False)"
   ]
  },
  {
   "cell_type": "code",
   "execution_count": 21,
   "metadata": {},
   "outputs": [
    {
     "name": "stdout",
     "output_type": "stream",
     "text": [
      "[[[0.23921569]\n",
      "  [0.21960784]\n",
      "  [0.23529412]\n",
      "  ...\n",
      "  [0.4       ]\n",
      "  [0.42745098]\n",
      "  [0.4       ]]\n",
      "\n",
      " [[0.21568627]\n",
      "  [0.23529412]\n",
      "  [0.24705882]\n",
      "  ...\n",
      "  [0.38431373]\n",
      "  [0.41960784]\n",
      "  [0.37647059]]\n",
      "\n",
      " [[0.19215686]\n",
      "  [0.22745098]\n",
      "  [0.22745098]\n",
      "  ...\n",
      "  [0.36470588]\n",
      "  [0.39607843]\n",
      "  [0.36078431]]\n",
      "\n",
      " ...\n",
      "\n",
      " [[0.76470588]\n",
      "  [0.7372549 ]\n",
      "  [0.74509804]\n",
      "  ...\n",
      "  [0.42352941]\n",
      "  [0.47843137]\n",
      "  [0.49411765]]\n",
      "\n",
      " [[0.74901961]\n",
      "  [0.76470588]\n",
      "  [0.76470588]\n",
      "  ...\n",
      "  [0.79607843]\n",
      "  [0.60784314]\n",
      "  [0.45490196]]\n",
      "\n",
      " [[0.70196078]\n",
      "  [0.7372549 ]\n",
      "  [0.74509804]\n",
      "  ...\n",
      "  [0.50588235]\n",
      "  [0.70588235]\n",
      "  [0.34117647]]]\n"
     ]
    }
   ],
   "source": [
    "print(X_test[0])"
   ]
  },
  {
   "cell_type": "code",
   "execution_count": null,
   "metadata": {},
   "outputs": [],
   "source": []
  }
 ],
 "metadata": {
  "kernelspec": {
   "display_name": "Python 3",
   "language": "python",
   "name": "python3"
  },
  "language_info": {
   "codemirror_mode": {
    "name": "ipython",
    "version": 3
   },
   "file_extension": ".py",
   "mimetype": "text/x-python",
   "name": "python",
   "nbconvert_exporter": "python",
   "pygments_lexer": "ipython3",
   "version": "3.6.9"
  }
 },
 "nbformat": 4,
 "nbformat_minor": 2
}
